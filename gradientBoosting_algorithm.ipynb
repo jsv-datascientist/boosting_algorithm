{
 "cells": [
  {
   "cell_type": "code",
   "execution_count": 2,
   "id": "ef0314b6",
   "metadata": {},
   "outputs": [],
   "source": [
    "import pandas as pd\n",
    "import numpy as np\n",
    "import matplotlib.pyplot as plt\n",
    "%matplotlib inline\n",
    "import seaborn as sns\n",
    "\n",
    "from sklearn.model_selection import train_test_split\n",
    "from sklearn.ensemble import GradientBoostingClassifier\n",
    "from sklearn.model_selection import GridSearchCV\n",
    "\n",
    "from sklearn.metrics import f1_score\n",
    "\n",
    "from skopt import BayesSearchCV"
   ]
  },
  {
   "cell_type": "code",
   "execution_count": 3,
   "id": "09945a17-ef18-461a-8d9d-275c1fa2aa8b",
   "metadata": {},
   "outputs": [
    {
     "data": {
      "text/html": [
       "<div>\n",
       "<style scoped>\n",
       "    .dataframe tbody tr th:only-of-type {\n",
       "        vertical-align: middle;\n",
       "    }\n",
       "\n",
       "    .dataframe tbody tr th {\n",
       "        vertical-align: top;\n",
       "    }\n",
       "\n",
       "    .dataframe thead th {\n",
       "        text-align: right;\n",
       "    }\n",
       "</style>\n",
       "<table border=\"1\" class=\"dataframe\">\n",
       "  <thead>\n",
       "    <tr style=\"text-align: right;\">\n",
       "      <th></th>\n",
       "      <th>SKU_ID</th>\n",
       "      <th>Date</th>\n",
       "      <th>Page_traffic</th>\n",
       "      <th>Revenue($)</th>\n",
       "      <th>Unit_price</th>\n",
       "      <th>Units_sold</th>\n",
       "      <th>Segment</th>\n",
       "      <th>1_Star_Rating</th>\n",
       "      <th>2_Star_Rating</th>\n",
       "      <th>3_Star_Rating</th>\n",
       "      <th>...</th>\n",
       "      <th>Sum of Spend</th>\n",
       "      <th>Online_Clicks</th>\n",
       "      <th>Online_Cost</th>\n",
       "      <th>Online_Impressions</th>\n",
       "      <th>num_unique_campaigns</th>\n",
       "      <th>Clicks_video</th>\n",
       "      <th>Cost_video</th>\n",
       "      <th>Impressions_video</th>\n",
       "      <th>num_unique_campaigns_offline</th>\n",
       "      <th>Units_sold&gt;1000</th>\n",
       "    </tr>\n",
       "  </thead>\n",
       "  <tbody>\n",
       "    <tr>\n",
       "      <th>0</th>\n",
       "      <td>SKU1539</td>\n",
       "      <td>2022-04-09</td>\n",
       "      <td>5835.0</td>\n",
       "      <td>46006</td>\n",
       "      <td>22.214389</td>\n",
       "      <td>2071</td>\n",
       "      <td>Skincare</td>\n",
       "      <td>99.0</td>\n",
       "      <td>72.0</td>\n",
       "      <td>194.0</td>\n",
       "      <td>...</td>\n",
       "      <td>0.0</td>\n",
       "      <td>1271.0</td>\n",
       "      <td>3102.448115</td>\n",
       "      <td>238075.0</td>\n",
       "      <td>6.0</td>\n",
       "      <td>3479.0</td>\n",
       "      <td>40244.28</td>\n",
       "      <td>3856872.0</td>\n",
       "      <td>2.0</td>\n",
       "      <td>1</td>\n",
       "    </tr>\n",
       "    <tr>\n",
       "      <th>1</th>\n",
       "      <td>SKU1431</td>\n",
       "      <td>2021-05-08</td>\n",
       "      <td>1881.0</td>\n",
       "      <td>8084</td>\n",
       "      <td>11.870778</td>\n",
       "      <td>681</td>\n",
       "      <td>Skincare</td>\n",
       "      <td>118.0</td>\n",
       "      <td>73.0</td>\n",
       "      <td>200.0</td>\n",
       "      <td>...</td>\n",
       "      <td>0.0</td>\n",
       "      <td>494.0</td>\n",
       "      <td>1723.716359</td>\n",
       "      <td>75868.0</td>\n",
       "      <td>2.0</td>\n",
       "      <td>0.0</td>\n",
       "      <td>0.00</td>\n",
       "      <td>0.0</td>\n",
       "      <td>0.0</td>\n",
       "      <td>0</td>\n",
       "    </tr>\n",
       "    <tr>\n",
       "      <th>2</th>\n",
       "      <td>SKU995</td>\n",
       "      <td>2022-12-24</td>\n",
       "      <td>2477.0</td>\n",
       "      <td>24190</td>\n",
       "      <td>27.645714</td>\n",
       "      <td>875</td>\n",
       "      <td>Makeup</td>\n",
       "      <td>108.0</td>\n",
       "      <td>85.0</td>\n",
       "      <td>232.0</td>\n",
       "      <td>...</td>\n",
       "      <td>0.0</td>\n",
       "      <td>0.0</td>\n",
       "      <td>0.000000</td>\n",
       "      <td>0.0</td>\n",
       "      <td>0.0</td>\n",
       "      <td>0.0</td>\n",
       "      <td>0.00</td>\n",
       "      <td>0.0</td>\n",
       "      <td>0.0</td>\n",
       "      <td>0</td>\n",
       "    </tr>\n",
       "    <tr>\n",
       "      <th>3</th>\n",
       "      <td>SKU1136</td>\n",
       "      <td>2022-10-08</td>\n",
       "      <td>4087.0</td>\n",
       "      <td>23588</td>\n",
       "      <td>16.896848</td>\n",
       "      <td>1396</td>\n",
       "      <td>Makeup</td>\n",
       "      <td>82.0</td>\n",
       "      <td>64.0</td>\n",
       "      <td>167.0</td>\n",
       "      <td>...</td>\n",
       "      <td>0.0</td>\n",
       "      <td>0.0</td>\n",
       "      <td>0.000000</td>\n",
       "      <td>0.0</td>\n",
       "      <td>0.0</td>\n",
       "      <td>0.0</td>\n",
       "      <td>0.00</td>\n",
       "      <td>0.0</td>\n",
       "      <td>0.0</td>\n",
       "      <td>1</td>\n",
       "    </tr>\n",
       "    <tr>\n",
       "      <th>4</th>\n",
       "      <td>SKU528</td>\n",
       "      <td>2022-03-26</td>\n",
       "      <td>1446.0</td>\n",
       "      <td>13446</td>\n",
       "      <td>16.357664</td>\n",
       "      <td>822</td>\n",
       "      <td>Hair Care</td>\n",
       "      <td>29.0</td>\n",
       "      <td>24.0</td>\n",
       "      <td>88.0</td>\n",
       "      <td>...</td>\n",
       "      <td>0.0</td>\n",
       "      <td>0.0</td>\n",
       "      <td>0.000000</td>\n",
       "      <td>0.0</td>\n",
       "      <td>0.0</td>\n",
       "      <td>6024.0</td>\n",
       "      <td>77040.81</td>\n",
       "      <td>7539723.0</td>\n",
       "      <td>2.0</td>\n",
       "      <td>0</td>\n",
       "    </tr>\n",
       "  </tbody>\n",
       "</table>\n",
       "<p>5 rows × 29 columns</p>\n",
       "</div>"
      ],
      "text/plain": [
       "    SKU_ID        Date  Page_traffic  Revenue($)  Unit_price  Units_sold  \\\n",
       "0  SKU1539  2022-04-09        5835.0       46006   22.214389        2071   \n",
       "1  SKU1431  2021-05-08        1881.0        8084   11.870778         681   \n",
       "2   SKU995  2022-12-24        2477.0       24190   27.645714         875   \n",
       "3  SKU1136  2022-10-08        4087.0       23588   16.896848        1396   \n",
       "4   SKU528  2022-03-26        1446.0       13446   16.357664         822   \n",
       "\n",
       "     Segment  1_Star_Rating  2_Star_Rating  3_Star_Rating  ...  Sum of Spend  \\\n",
       "0   Skincare           99.0           72.0          194.0  ...           0.0   \n",
       "1   Skincare          118.0           73.0          200.0  ...           0.0   \n",
       "2     Makeup          108.0           85.0          232.0  ...           0.0   \n",
       "3     Makeup           82.0           64.0          167.0  ...           0.0   \n",
       "4  Hair Care           29.0           24.0           88.0  ...           0.0   \n",
       "\n",
       "   Online_Clicks  Online_Cost  Online_Impressions  num_unique_campaigns  \\\n",
       "0         1271.0  3102.448115            238075.0                   6.0   \n",
       "1          494.0  1723.716359             75868.0                   2.0   \n",
       "2            0.0     0.000000                 0.0                   0.0   \n",
       "3            0.0     0.000000                 0.0                   0.0   \n",
       "4            0.0     0.000000                 0.0                   0.0   \n",
       "\n",
       "   Clicks_video  Cost_video  Impressions_video  num_unique_campaigns_offline  \\\n",
       "0        3479.0    40244.28          3856872.0                           2.0   \n",
       "1           0.0        0.00                0.0                           0.0   \n",
       "2           0.0        0.00                0.0                           0.0   \n",
       "3           0.0        0.00                0.0                           0.0   \n",
       "4        6024.0    77040.81          7539723.0                           2.0   \n",
       "\n",
       "   Units_sold>1000  \n",
       "0                1  \n",
       "1                0  \n",
       "2                0  \n",
       "3                1  \n",
       "4                0  \n",
       "\n",
       "[5 rows x 29 columns]"
      ]
     },
     "execution_count": 3,
     "metadata": {},
     "output_type": "execute_result"
    }
   ],
   "source": [
    "data = pd.read_csv(\"dataset.csv\")\n",
    "data.head()"
   ]
  },
  {
   "cell_type": "markdown",
   "id": "9dbf6d0a",
   "metadata": {},
   "source": [
    "## Feature Engineering \n",
    "Here we will do the below \n",
    "- Feature Transformation\n",
    "- Feature Generation\n",
    "- Feature Selection "
   ]
  },
  {
   "cell_type": "code",
   "execution_count": 4,
   "id": "3ee94dce",
   "metadata": {},
   "outputs": [
    {
     "data": {
      "text/plain": [
       "SKU_ID                           object\n",
       "Date                             object\n",
       "Page_traffic                    float64\n",
       "Revenue($)                        int64\n",
       "Unit_price                      float64\n",
       "Units_sold                        int64\n",
       "Segment                          object\n",
       "1_Star_Rating                   float64\n",
       "2_Star_Rating                   float64\n",
       "3_Star_Rating                   float64\n",
       "4_Star_Rating                   float64\n",
       "5_Star_Rating                   float64\n",
       "Image_Count                     float64\n",
       "Bullet_Count                    float64\n",
       "Title_Count                     float64\n",
       "Description_Length              float64\n",
       "num_unique_Search_Terms         float64\n",
       "Organic Search Rank             float64\n",
       "Num_of_Promotions               float64\n",
       "Sum of Spend                    float64\n",
       "Online_Clicks                   float64\n",
       "Online_Cost                     float64\n",
       "Online_Impressions              float64\n",
       "num_unique_campaigns            float64\n",
       "Clicks_video                    float64\n",
       "Cost_video                      float64\n",
       "Impressions_video               float64\n",
       "num_unique_campaigns_offline    float64\n",
       "Units_sold>1000                   int64\n",
       "dtype: object"
      ]
     },
     "execution_count": 4,
     "metadata": {},
     "output_type": "execute_result"
    }
   ],
   "source": [
    "data.dtypes"
   ]
  },
  {
   "cell_type": "code",
   "execution_count": 5,
   "id": "8f1f7256",
   "metadata": {},
   "outputs": [
    {
     "data": {
      "text/plain": [
       "SKU_ID                          0\n",
       "Date                            0\n",
       "Page_traffic                    0\n",
       "Revenue($)                      0\n",
       "Unit_price                      0\n",
       "Units_sold                      0\n",
       "Segment                         0\n",
       "1_Star_Rating                   0\n",
       "2_Star_Rating                   0\n",
       "3_Star_Rating                   0\n",
       "4_Star_Rating                   0\n",
       "5_Star_Rating                   0\n",
       "Image_Count                     0\n",
       "Bullet_Count                    0\n",
       "Title_Count                     0\n",
       "Description_Length              0\n",
       "num_unique_Search_Terms         0\n",
       "Organic Search Rank             0\n",
       "Num_of_Promotions               0\n",
       "Sum of Spend                    0\n",
       "Online_Clicks                   0\n",
       "Online_Cost                     0\n",
       "Online_Impressions              0\n",
       "num_unique_campaigns            0\n",
       "Clicks_video                    0\n",
       "Cost_video                      0\n",
       "Impressions_video               0\n",
       "num_unique_campaigns_offline    0\n",
       "Units_sold>1000                 0\n",
       "dtype: int64"
      ]
     },
     "execution_count": 5,
     "metadata": {},
     "output_type": "execute_result"
    }
   ],
   "source": [
    "data.isnull().sum()"
   ]
  },
  {
   "cell_type": "markdown",
   "id": "9363562a",
   "metadata": {},
   "source": [
    "### Label Encoding\n",
    "Here Segment is Object which has three unique values, We can perform Label Encoding."
   ]
  },
  {
   "cell_type": "code",
   "execution_count": 6,
   "id": "923532dc",
   "metadata": {},
   "outputs": [
    {
     "name": "stdout",
     "output_type": "stream",
     "text": [
      "Segment\n",
      "Makeup       10631\n",
      "Skincare      6362\n",
      "Hair Care     2638\n",
      "Name: count, dtype: int64\n"
     ]
    }
   ],
   "source": [
    "print(data['Segment'].value_counts())"
   ]
  },
  {
   "cell_type": "code",
   "execution_count": 7,
   "id": "bd509a80",
   "metadata": {},
   "outputs": [],
   "source": [
    "data['Segment'] = data['Segment'].map({\n",
    "    \"Makeup\" : 1,\n",
    "    \"Skincare\" : 2,\n",
    "    \"Hair Care\": 3\n",
    "})"
   ]
  },
  {
   "cell_type": "code",
   "execution_count": 8,
   "id": "ea0bc2b2",
   "metadata": {},
   "outputs": [
    {
     "data": {
      "text/plain": [
       "SKU_ID                          0\n",
       "Date                            0\n",
       "Page_traffic                    0\n",
       "Revenue($)                      0\n",
       "Unit_price                      0\n",
       "Units_sold                      0\n",
       "Segment                         0\n",
       "1_Star_Rating                   0\n",
       "2_Star_Rating                   0\n",
       "3_Star_Rating                   0\n",
       "4_Star_Rating                   0\n",
       "5_Star_Rating                   0\n",
       "Image_Count                     0\n",
       "Bullet_Count                    0\n",
       "Title_Count                     0\n",
       "Description_Length              0\n",
       "num_unique_Search_Terms         0\n",
       "Organic Search Rank             0\n",
       "Num_of_Promotions               0\n",
       "Sum of Spend                    0\n",
       "Online_Clicks                   0\n",
       "Online_Cost                     0\n",
       "Online_Impressions              0\n",
       "num_unique_campaigns            0\n",
       "Clicks_video                    0\n",
       "Cost_video                      0\n",
       "Impressions_video               0\n",
       "num_unique_campaigns_offline    0\n",
       "Units_sold>1000                 0\n",
       "dtype: int64"
      ]
     },
     "execution_count": 8,
     "metadata": {},
     "output_type": "execute_result"
    }
   ],
   "source": [
    "data.isnull().sum()"
   ]
  },
  {
   "cell_type": "markdown",
   "id": "c93f993e",
   "metadata": {},
   "source": [
    "### Check for the outliers "
   ]
  },
  {
   "cell_type": "code",
   "execution_count": 9,
   "id": "4478b55c",
   "metadata": {},
   "outputs": [],
   "source": [
    "def handle_outliers( data, column_name):\n",
    "\n",
    "    #calculate the 25th percentile, 75th percentile and IQR\n",
    "    perc_25, perc_75 = np.percentile(data[column_name], [25,75])\n",
    "    iqr = perc_75 - perc_25\n",
    "\n",
    "    is_outlier_check = lambda x : ( (x > (perc_75 + 1.5*iqr)) or (x < (perc_25 - 1.5*iqr )) )\n",
    "\n",
    "    is_outlier = data[column_name].apply(is_outlier_check)\n",
    "\n",
    "    plt.figure(figsize=(5,5))\n",
    "\n",
    "    sns.boxplot(data=data, x=column_name)\n",
    "    plt.title(f\"Boxplot for {column_name}, Outlier Count : {sum(is_outlier)}\")\n",
    "\n",
    "    plt.show()\n",
    "    plt.close()\n",
    "\n",
    "    return perc_25, perc_75, data[column_name].clip(lower = perc_25 - 1.5 * iqr,\n",
    "                                                    upper = perc_75 + 1.5 * iqr).values"
   ]
  },
  {
   "cell_type": "code",
   "execution_count": 10,
   "id": "f40ab0f9",
   "metadata": {},
   "outputs": [],
   "source": [
    "data.drop(['Units_sold','SKU_ID','Revenue($)','Units_sold'], inplace=True, axis=1)"
   ]
  },
  {
   "cell_type": "code",
   "execution_count": 11,
   "id": "5f42ed4d",
   "metadata": {},
   "outputs": [
    {
     "data": {
      "text/plain": [
       "Index(['Date', 'Page_traffic', 'Unit_price', 'Segment', '1_Star_Rating',\n",
       "       '2_Star_Rating', '3_Star_Rating', '4_Star_Rating', '5_Star_Rating',\n",
       "       'Image_Count', 'Bullet_Count', 'Title_Count', 'Description_Length',\n",
       "       'num_unique_Search_Terms', 'Organic Search Rank', 'Num_of_Promotions',\n",
       "       'Sum of Spend', 'Online_Clicks', 'Online_Cost', 'Online_Impressions',\n",
       "       'num_unique_campaigns', 'Clicks_video', 'Cost_video',\n",
       "       'Impressions_video', 'num_unique_campaigns_offline', 'Units_sold>1000'],\n",
       "      dtype='object')"
      ]
     },
     "execution_count": 11,
     "metadata": {},
     "output_type": "execute_result"
    }
   ],
   "source": [
    "data.columns"
   ]
  },
  {
   "cell_type": "code",
   "execution_count": null,
   "id": "74c28b96",
   "metadata": {},
   "outputs": [],
   "source": [
    "for column in data.columns:\n",
    "    print(column)\n",
    "    if pd.api.types.is_numeric_dtype(data[column]) and not pd.api.types.is_bool_dtype(data[column]):\n",
    "        per_25, per_75, data[column] = handle_outliers(data, column)"
   ]
  },
  {
   "cell_type": "code",
   "execution_count": 13,
   "id": "5393a090",
   "metadata": {},
   "outputs": [
    {
     "data": {
      "image/png": "[encoded data removed]",
      "text/plain": [
       "<Figure size 640x480 with 1 Axes>"
      ]
     },
     "metadata": {},
     "output_type": "display_data"
    }
   ],
   "source": [
    "plt.boxplot(data[\"Page_traffic\"])\n",
    "plt.show()"
   ]
  },
  {
   "cell_type": "markdown",
   "id": "9756aaa5",
   "metadata": {},
   "source": [
    "## Feature Generation"
   ]
  },
  {
   "cell_type": "code",
   "execution_count": 14,
   "id": "104ecf06",
   "metadata": {},
   "outputs": [],
   "source": [
    "#Calculate the weighted average [10, 20, 30] the 1*20 + 2*20 + 3*30 / (10+20+30 +1)\n",
    "weighted_average_rate = lambda x: np.round( sum( i*val for i , val in enumerate(x, start=1)) / (sum(x) + 1E-15), 1 )"
   ]
  },
  {
   "cell_type": "code",
   "execution_count": 15,
   "id": "19cc32b6",
   "metadata": {},
   "outputs": [
    {
     "data": {
      "text/plain": [
       "Index(['1_Star_Rating', '2_Star_Rating', '3_Star_Rating', '4_Star_Rating',\n",
       "       '5_Star_Rating'],\n",
       "      dtype='object')"
      ]
     },
     "execution_count": 15,
     "metadata": {},
     "output_type": "execute_result"
    }
   ],
   "source": [
    "#Extract the column containing the Star Rating \n",
    "rating_columns = data.columns[data.columns.str.contains('Star_Rating')]\n",
    "rating_columns"
   ]
  },
  {
   "cell_type": "code",
   "execution_count": 16,
   "id": "ad09d195",
   "metadata": {},
   "outputs": [
    {
     "data": {
      "text/plain": [
       "count    19631.000000\n",
       "mean         3.908746\n",
       "std          1.549840\n",
       "min          0.000000\n",
       "25%          4.500000\n",
       "50%          4.600000\n",
       "75%          4.600000\n",
       "max          4.900000\n",
       "Name: weighted_average_ratings, dtype: float64"
      ]
     },
     "execution_count": 16,
     "metadata": {},
     "output_type": "execute_result"
    }
   ],
   "source": [
    "data['weighted_average_ratings'] = data[rating_columns].apply(weighted_average_rate, axis=1)\n",
    "data['weighted_average_ratings'].describe()"
   ]
  },
  {
   "cell_type": "code",
   "execution_count": 17,
   "id": "6eeadbed",
   "metadata": {},
   "outputs": [],
   "source": [
    "#online cost per impression for online ads, higher indicates less efficient, require high expenditure\n",
    "data['online_cost_per_impression'] = data['Online_Cost'] / data['Online_Impressions']\n",
    "\n",
    "# cost of video ad campaign\n",
    "data['video_cost_per_impression'] = data['Cost_video'] / data['Impressions_video']\n",
    "\n",
    "\n",
    "# Total Cost \n",
    "data['total_cost'] = data['Online_Cost'] + data['Cost_video']"
   ]
  },
  {
   "cell_type": "code",
   "execution_count": 18,
   "id": "5b59744e",
   "metadata": {},
   "outputs": [],
   "source": [
    "data['Date'] = pd.to_datetime(data['Date'], format=\"%Y-%m-%d\")\n",
    "data['month'] = data['Date'].dt.month\n",
    "data['is_month_end'] = data['Date'].dt.is_month_end"
   ]
  },
  {
   "cell_type": "code",
   "execution_count": 27,
   "id": "554f7ebf",
   "metadata": {},
   "outputs": [
    {
     "name": "stderr",
     "output_type": "stream",
     "text": [
      "C:\\Users\\User\\AppData\\Local\\Temp\\ipykernel_19216\\1723060919.py:1: UserWarning: Boolean Series key will be reindexed to match DataFrame index.\n",
      "  data[data.isnull().sum()!=0]\n"
     ]
    },
    {
     "ename": "IndexingError",
     "evalue": "Unalignable boolean Series provided as indexer (index of the boolean Series and of the indexed object do not match).",
     "output_type": "error",
     "traceback": [
      "\u001b[1;31m---------------------------------------------------------------------------\u001b[0m",
      "\u001b[1;31mIndexingError\u001b[0m                             Traceback (most recent call last)",
      "Cell \u001b[1;32mIn[27], line 1\u001b[0m\n\u001b[1;32m----> 1\u001b[0m data[data\u001b[38;5;241m.\u001b[39misnull()\u001b[38;5;241m.\u001b[39msum()\u001b[38;5;241m!=\u001b[39m\u001b[38;5;241m0\u001b[39m]\n",
      "File \u001b[1;32mc:\\Users\\User\\anaconda3\\Lib\\site-packages\\pandas\\core\\frame.py:4093\u001b[0m, in \u001b[0;36mDataFrame.__getitem__\u001b[1;34m(self, key)\u001b[0m\n\u001b[0;32m   4091\u001b[0m \u001b[38;5;66;03m# Do we have a (boolean) 1d indexer?\u001b[39;00m\n\u001b[0;32m   4092\u001b[0m \u001b[38;5;28;01mif\u001b[39;00m com\u001b[38;5;241m.\u001b[39mis_bool_indexer(key):\n\u001b[1;32m-> 4093\u001b[0m     \u001b[38;5;28;01mreturn\u001b[39;00m \u001b[38;5;28mself\u001b[39m\u001b[38;5;241m.\u001b[39m_getitem_bool_array(key)\n\u001b[0;32m   4095\u001b[0m \u001b[38;5;66;03m# We are left with two options: a single key, and a collection of keys,\u001b[39;00m\n\u001b[0;32m   4096\u001b[0m \u001b[38;5;66;03m# We interpret tuples as collections only for non-MultiIndex\u001b[39;00m\n\u001b[0;32m   4097\u001b[0m is_single_key \u001b[38;5;241m=\u001b[39m \u001b[38;5;28misinstance\u001b[39m(key, \u001b[38;5;28mtuple\u001b[39m) \u001b[38;5;129;01mor\u001b[39;00m \u001b[38;5;129;01mnot\u001b[39;00m is_list_like(key)\n",
      "File \u001b[1;32mc:\\Users\\User\\anaconda3\\Lib\\site-packages\\pandas\\core\\frame.py:4149\u001b[0m, in \u001b[0;36mDataFrame._getitem_bool_array\u001b[1;34m(self, key)\u001b[0m\n\u001b[0;32m   4143\u001b[0m     \u001b[38;5;28;01mraise\u001b[39;00m \u001b[38;5;167;01mValueError\u001b[39;00m(\n\u001b[0;32m   4144\u001b[0m         \u001b[38;5;124mf\u001b[39m\u001b[38;5;124m\"\u001b[39m\u001b[38;5;124mItem wrong length \u001b[39m\u001b[38;5;132;01m{\u001b[39;00m\u001b[38;5;28mlen\u001b[39m(key)\u001b[38;5;132;01m}\u001b[39;00m\u001b[38;5;124m instead of \u001b[39m\u001b[38;5;132;01m{\u001b[39;00m\u001b[38;5;28mlen\u001b[39m(\u001b[38;5;28mself\u001b[39m\u001b[38;5;241m.\u001b[39mindex)\u001b[38;5;132;01m}\u001b[39;00m\u001b[38;5;124m.\u001b[39m\u001b[38;5;124m\"\u001b[39m\n\u001b[0;32m   4145\u001b[0m     )\n\u001b[0;32m   4147\u001b[0m \u001b[38;5;66;03m# check_bool_indexer will throw exception if Series key cannot\u001b[39;00m\n\u001b[0;32m   4148\u001b[0m \u001b[38;5;66;03m# be reindexed to match DataFrame rows\u001b[39;00m\n\u001b[1;32m-> 4149\u001b[0m key \u001b[38;5;241m=\u001b[39m check_bool_indexer(\u001b[38;5;28mself\u001b[39m\u001b[38;5;241m.\u001b[39mindex, key)\n\u001b[0;32m   4151\u001b[0m \u001b[38;5;28;01mif\u001b[39;00m key\u001b[38;5;241m.\u001b[39mall():\n\u001b[0;32m   4152\u001b[0m     \u001b[38;5;28;01mreturn\u001b[39;00m \u001b[38;5;28mself\u001b[39m\u001b[38;5;241m.\u001b[39mcopy(deep\u001b[38;5;241m=\u001b[39m\u001b[38;5;28;01mNone\u001b[39;00m)\n",
      "File \u001b[1;32mc:\\Users\\User\\anaconda3\\Lib\\site-packages\\pandas\\core\\indexing.py:2662\u001b[0m, in \u001b[0;36mcheck_bool_indexer\u001b[1;34m(index, key)\u001b[0m\n\u001b[0;32m   2660\u001b[0m indexer \u001b[38;5;241m=\u001b[39m result\u001b[38;5;241m.\u001b[39mindex\u001b[38;5;241m.\u001b[39mget_indexer_for(index)\n\u001b[0;32m   2661\u001b[0m \u001b[38;5;28;01mif\u001b[39;00m \u001b[38;5;241m-\u001b[39m\u001b[38;5;241m1\u001b[39m \u001b[38;5;129;01min\u001b[39;00m indexer:\n\u001b[1;32m-> 2662\u001b[0m     \u001b[38;5;28;01mraise\u001b[39;00m IndexingError(\n\u001b[0;32m   2663\u001b[0m         \u001b[38;5;124m\"\u001b[39m\u001b[38;5;124mUnalignable boolean Series provided as \u001b[39m\u001b[38;5;124m\"\u001b[39m\n\u001b[0;32m   2664\u001b[0m         \u001b[38;5;124m\"\u001b[39m\u001b[38;5;124mindexer (index of the boolean Series and of \u001b[39m\u001b[38;5;124m\"\u001b[39m\n\u001b[0;32m   2665\u001b[0m         \u001b[38;5;124m\"\u001b[39m\u001b[38;5;124mthe indexed object do not match).\u001b[39m\u001b[38;5;124m\"\u001b[39m\n\u001b[0;32m   2666\u001b[0m     )\n\u001b[0;32m   2668\u001b[0m result \u001b[38;5;241m=\u001b[39m result\u001b[38;5;241m.\u001b[39mtake(indexer)\n\u001b[0;32m   2670\u001b[0m \u001b[38;5;66;03m# fall through for boolean\u001b[39;00m\n",
      "\u001b[1;31mIndexingError\u001b[0m: Unalignable boolean Series provided as indexer (index of the boolean Series and of the indexed object do not match)."
     ]
    }
   ],
   "source": [
    "data[data.isnull().sum()!=0]"
   ]
  },
  {
   "cell_type": "markdown",
   "id": "59fa93f0",
   "metadata": {},
   "source": [
    "# Creating Dependent and Independent features for training"
   ]
  },
  {
   "cell_type": "code",
   "execution_count": 19,
   "id": "d558910d",
   "metadata": {},
   "outputs": [],
   "source": [
    "X = data.drop(['Units_sold>1000'] , axis=1)\n",
    "y = data['Units_sold>1000']"
   ]
  },
  {
   "cell_type": "markdown",
   "id": "39df2fd2",
   "metadata": {},
   "source": [
    "# Split data into train , validation and test dataset"
   ]
  },
  {
   "cell_type": "code",
   "execution_count": 20,
   "id": "2e4cadbc",
   "metadata": {},
   "outputs": [],
   "source": [
    "x_train, x_test, y_train, y_test = train_test_split(X, y, test_size=0.2, random_state=32)"
   ]
  },
  {
   "cell_type": "code",
   "execution_count": 21,
   "id": "8017377b",
   "metadata": {},
   "outputs": [],
   "source": [
    "x_train, x_val, y_train, y_val = train_test_split(x_train, y_train, test_size=0.20, random_state=33)"
   ]
  },
  {
   "cell_type": "code",
   "execution_count": 22,
   "id": "e63a18e1",
   "metadata": {},
   "outputs": [
    {
     "data": {
      "text/plain": [
       "(12563, 3927, 3141)"
      ]
     },
     "execution_count": 22,
     "metadata": {},
     "output_type": "execute_result"
    }
   ],
   "source": [
    "(len(x_train), len(x_test), len(x_val))"
   ]
  },
  {
   "cell_type": "markdown",
   "id": "9614629d",
   "metadata": {},
   "source": [
    "# Model Performance "
   ]
  },
  {
   "cell_type": "code",
   "execution_count": 23,
   "id": "e7a7f813",
   "metadata": {},
   "outputs": [],
   "source": [
    "def validate_model(x_train, y_train, x_val, y_val, model=None):\n",
    "    if model is None:\n",
    "        model = GradientBoostingClassifier(max_depth=7, min_samples_leaf=25,n_estimators=110, random_state=40)\n",
    "\n",
    "    model.fit(x_train, y_train)\n",
    "\n",
    "    train_f1_score = f1_score(y_train, model.predict(x_train))\n",
    "    val_f1_score = f1_score(y_val, model.predict(x_val))\n",
    "\n",
    "    print(f\"F1 Score on training data  {train_f1_score}\")\n",
    "    print(f\"F1 Score on Validation data {val_f1_score}\")\n"
   ]
  },
  {
   "cell_type": "code",
   "execution_count": 24,
   "id": "8ff38ed2",
   "metadata": {},
   "outputs": [
    {
     "ename": "DTypePromotionError",
     "evalue": "The DType <class 'numpy.dtypes.DateTime64DType'> could not be promoted by <class 'numpy.dtypes.Float64DType'>. This means that no common DType exists for the given inputs. For example they cannot be stored in a single array unless the dtype is `object`. The full list of DTypes is: (<class 'numpy.dtypes.DateTime64DType'>, <class 'numpy.dtypes.Float64DType'>, <class 'numpy.dtypes.Float64DType'>, <class 'numpy.dtypes.Int64DType'>, <class 'numpy.dtypes.Float64DType'>, <class 'numpy.dtypes.Float64DType'>, <class 'numpy.dtypes.Float64DType'>, <class 'numpy.dtypes.Float64DType'>, <class 'numpy.dtypes.Float64DType'>, <class 'numpy.dtypes.Float64DType'>, <class 'numpy.dtypes.Float64DType'>, <class 'numpy.dtypes.Float64DType'>, <class 'numpy.dtypes.Float64DType'>, <class 'numpy.dtypes.Float64DType'>, <class 'numpy.dtypes.Float64DType'>, <class 'numpy.dtypes.Float64DType'>, <class 'numpy.dtypes.Float64DType'>, <class 'numpy.dtypes.Float64DType'>, <class 'numpy.dtypes.Float64DType'>, <class 'numpy.dtypes.Float64DType'>, <class 'numpy.dtypes.Float64DType'>, <class 'numpy.dtypes.Float64DType'>, <class 'numpy.dtypes.Float64DType'>, <class 'numpy.dtypes.Float64DType'>, <class 'numpy.dtypes.Float64DType'>, <class 'numpy.dtypes.Float64DType'>, <class 'numpy.dtypes.Float64DType'>, <class 'numpy.dtypes.Float64DType'>, <class 'numpy.dtypes.Float64DType'>, <class 'numpy.dtypes.Int32DType'>, <class 'numpy.dtypes.BoolDType'>)",
     "output_type": "error",
     "traceback": [
      "\u001b[1;31m---------------------------------------------------------------------------\u001b[0m",
      "\u001b[1;31mDTypePromotionError\u001b[0m                       Traceback (most recent call last)",
      "Cell \u001b[1;32mIn[24], line 1\u001b[0m\n\u001b[1;32m----> 1\u001b[0m validate_model(x_train, y_train, x_val, y_val)\n",
      "Cell \u001b[1;32mIn[23], line 5\u001b[0m, in \u001b[0;36mvalidate_model\u001b[1;34m(x_train, y_train, x_val, y_val, model)\u001b[0m\n\u001b[0;32m      2\u001b[0m \u001b[38;5;28;01mif\u001b[39;00m model \u001b[38;5;129;01mis\u001b[39;00m \u001b[38;5;28;01mNone\u001b[39;00m:\n\u001b[0;32m      3\u001b[0m     model \u001b[38;5;241m=\u001b[39m GradientBoostingClassifier(max_depth\u001b[38;5;241m=\u001b[39m\u001b[38;5;241m7\u001b[39m, min_samples_leaf\u001b[38;5;241m=\u001b[39m\u001b[38;5;241m25\u001b[39m,n_estimators\u001b[38;5;241m=\u001b[39m\u001b[38;5;241m110\u001b[39m, random_state\u001b[38;5;241m=\u001b[39m\u001b[38;5;241m40\u001b[39m)\n\u001b[1;32m----> 5\u001b[0m model\u001b[38;5;241m.\u001b[39mfit(x_train, y_train)\n\u001b[0;32m      7\u001b[0m train_f1_score \u001b[38;5;241m=\u001b[39m f1_score(y_train, model\u001b[38;5;241m.\u001b[39mpredict(x_train))\n\u001b[0;32m      8\u001b[0m val_f1_score \u001b[38;5;241m=\u001b[39m f1_score(y_val, model\u001b[38;5;241m.\u001b[39mpredict(x_val))\n",
      "File \u001b[1;32mc:\\Users\\User\\anaconda3\\Lib\\site-packages\\sklearn\\base.py:1474\u001b[0m, in \u001b[0;36m_fit_context.<locals>.decorator.<locals>.wrapper\u001b[1;34m(estimator, *args, **kwargs)\u001b[0m\n\u001b[0;32m   1467\u001b[0m     estimator\u001b[38;5;241m.\u001b[39m_validate_params()\n\u001b[0;32m   1469\u001b[0m \u001b[38;5;28;01mwith\u001b[39;00m config_context(\n\u001b[0;32m   1470\u001b[0m     skip_parameter_validation\u001b[38;5;241m=\u001b[39m(\n\u001b[0;32m   1471\u001b[0m         prefer_skip_nested_validation \u001b[38;5;129;01mor\u001b[39;00m global_skip_validation\n\u001b[0;32m   1472\u001b[0m     )\n\u001b[0;32m   1473\u001b[0m ):\n\u001b[1;32m-> 1474\u001b[0m     \u001b[38;5;28;01mreturn\u001b[39;00m fit_method(estimator, \u001b[38;5;241m*\u001b[39margs, \u001b[38;5;241m*\u001b[39m\u001b[38;5;241m*\u001b[39mkwargs)\n",
      "File \u001b[1;32mc:\\Users\\User\\anaconda3\\Lib\\site-packages\\sklearn\\ensemble\\_gb.py:659\u001b[0m, in \u001b[0;36mBaseGradientBoosting.fit\u001b[1;34m(self, X, y, sample_weight, monitor)\u001b[0m\n\u001b[0;32m    653\u001b[0m     \u001b[38;5;28mself\u001b[39m\u001b[38;5;241m.\u001b[39m_clear_state()\n\u001b[0;32m    655\u001b[0m \u001b[38;5;66;03m# Check input\u001b[39;00m\n\u001b[0;32m    656\u001b[0m \u001b[38;5;66;03m# Since check_array converts both X and y to the same dtype, but the\u001b[39;00m\n\u001b[0;32m    657\u001b[0m \u001b[38;5;66;03m# trees use different types for X and y, checking them separately.\u001b[39;00m\n\u001b[1;32m--> 659\u001b[0m X, y \u001b[38;5;241m=\u001b[39m \u001b[38;5;28mself\u001b[39m\u001b[38;5;241m.\u001b[39m_validate_data(\n\u001b[0;32m    660\u001b[0m     X, y, accept_sparse\u001b[38;5;241m=\u001b[39m[\u001b[38;5;124m\"\u001b[39m\u001b[38;5;124mcsr\u001b[39m\u001b[38;5;124m\"\u001b[39m, \u001b[38;5;124m\"\u001b[39m\u001b[38;5;124mcsc\u001b[39m\u001b[38;5;124m\"\u001b[39m, \u001b[38;5;124m\"\u001b[39m\u001b[38;5;124mcoo\u001b[39m\u001b[38;5;124m\"\u001b[39m], dtype\u001b[38;5;241m=\u001b[39mDTYPE, multi_output\u001b[38;5;241m=\u001b[39m\u001b[38;5;28;01mTrue\u001b[39;00m\n\u001b[0;32m    661\u001b[0m )\n\u001b[0;32m    662\u001b[0m sample_weight_is_none \u001b[38;5;241m=\u001b[39m sample_weight \u001b[38;5;129;01mis\u001b[39;00m \u001b[38;5;28;01mNone\u001b[39;00m\n\u001b[0;32m    663\u001b[0m sample_weight \u001b[38;5;241m=\u001b[39m _check_sample_weight(sample_weight, X)\n",
      "File \u001b[1;32mc:\\Users\\User\\anaconda3\\Lib\\site-packages\\sklearn\\base.py:650\u001b[0m, in \u001b[0;36mBaseEstimator._validate_data\u001b[1;34m(self, X, y, reset, validate_separately, cast_to_ndarray, **check_params)\u001b[0m\n\u001b[0;32m    648\u001b[0m         y \u001b[38;5;241m=\u001b[39m check_array(y, input_name\u001b[38;5;241m=\u001b[39m\u001b[38;5;124m\"\u001b[39m\u001b[38;5;124my\u001b[39m\u001b[38;5;124m\"\u001b[39m, \u001b[38;5;241m*\u001b[39m\u001b[38;5;241m*\u001b[39mcheck_y_params)\n\u001b[0;32m    649\u001b[0m     \u001b[38;5;28;01melse\u001b[39;00m:\n\u001b[1;32m--> 650\u001b[0m         X, y \u001b[38;5;241m=\u001b[39m check_X_y(X, y, \u001b[38;5;241m*\u001b[39m\u001b[38;5;241m*\u001b[39mcheck_params)\n\u001b[0;32m    651\u001b[0m     out \u001b[38;5;241m=\u001b[39m X, y\n\u001b[0;32m    653\u001b[0m \u001b[38;5;28;01mif\u001b[39;00m \u001b[38;5;129;01mnot\u001b[39;00m no_val_X \u001b[38;5;129;01mand\u001b[39;00m check_params\u001b[38;5;241m.\u001b[39mget(\u001b[38;5;124m\"\u001b[39m\u001b[38;5;124mensure_2d\u001b[39m\u001b[38;5;124m\"\u001b[39m, \u001b[38;5;28;01mTrue\u001b[39;00m):\n",
      "File \u001b[1;32mc:\\Users\\User\\anaconda3\\Lib\\site-packages\\sklearn\\utils\\validation.py:1263\u001b[0m, in \u001b[0;36mcheck_X_y\u001b[1;34m(X, y, accept_sparse, accept_large_sparse, dtype, order, copy, force_all_finite, ensure_2d, allow_nd, multi_output, ensure_min_samples, ensure_min_features, y_numeric, estimator)\u001b[0m\n\u001b[0;32m   1258\u001b[0m         estimator_name \u001b[38;5;241m=\u001b[39m _check_estimator_name(estimator)\n\u001b[0;32m   1259\u001b[0m     \u001b[38;5;28;01mraise\u001b[39;00m \u001b[38;5;167;01mValueError\u001b[39;00m(\n\u001b[0;32m   1260\u001b[0m         \u001b[38;5;124mf\u001b[39m\u001b[38;5;124m\"\u001b[39m\u001b[38;5;132;01m{\u001b[39;00mestimator_name\u001b[38;5;132;01m}\u001b[39;00m\u001b[38;5;124m requires y to be passed, but the target y is None\u001b[39m\u001b[38;5;124m\"\u001b[39m\n\u001b[0;32m   1261\u001b[0m     )\n\u001b[1;32m-> 1263\u001b[0m X \u001b[38;5;241m=\u001b[39m check_array(\n\u001b[0;32m   1264\u001b[0m     X,\n\u001b[0;32m   1265\u001b[0m     accept_sparse\u001b[38;5;241m=\u001b[39maccept_sparse,\n\u001b[0;32m   1266\u001b[0m     accept_large_sparse\u001b[38;5;241m=\u001b[39maccept_large_sparse,\n\u001b[0;32m   1267\u001b[0m     dtype\u001b[38;5;241m=\u001b[39mdtype,\n\u001b[0;32m   1268\u001b[0m     order\u001b[38;5;241m=\u001b[39morder,\n\u001b[0;32m   1269\u001b[0m     copy\u001b[38;5;241m=\u001b[39mcopy,\n\u001b[0;32m   1270\u001b[0m     force_all_finite\u001b[38;5;241m=\u001b[39mforce_all_finite,\n\u001b[0;32m   1271\u001b[0m     ensure_2d\u001b[38;5;241m=\u001b[39mensure_2d,\n\u001b[0;32m   1272\u001b[0m     allow_nd\u001b[38;5;241m=\u001b[39mallow_nd,\n\u001b[0;32m   1273\u001b[0m     ensure_min_samples\u001b[38;5;241m=\u001b[39mensure_min_samples,\n\u001b[0;32m   1274\u001b[0m     ensure_min_features\u001b[38;5;241m=\u001b[39mensure_min_features,\n\u001b[0;32m   1275\u001b[0m     estimator\u001b[38;5;241m=\u001b[39mestimator,\n\u001b[0;32m   1276\u001b[0m     input_name\u001b[38;5;241m=\u001b[39m\u001b[38;5;124m\"\u001b[39m\u001b[38;5;124mX\u001b[39m\u001b[38;5;124m\"\u001b[39m,\n\u001b[0;32m   1277\u001b[0m )\n\u001b[0;32m   1279\u001b[0m y \u001b[38;5;241m=\u001b[39m _check_y(y, multi_output\u001b[38;5;241m=\u001b[39mmulti_output, y_numeric\u001b[38;5;241m=\u001b[39my_numeric, estimator\u001b[38;5;241m=\u001b[39mestimator)\n\u001b[0;32m   1281\u001b[0m check_consistent_length(X, y)\n",
      "File \u001b[1;32mc:\\Users\\User\\anaconda3\\Lib\\site-packages\\sklearn\\utils\\validation.py:879\u001b[0m, in \u001b[0;36mcheck_array\u001b[1;34m(array, accept_sparse, accept_large_sparse, dtype, order, copy, force_all_finite, ensure_2d, allow_nd, ensure_min_samples, ensure_min_features, estimator, input_name)\u001b[0m\n\u001b[0;32m    875\u001b[0m pandas_requires_conversion \u001b[38;5;241m=\u001b[39m \u001b[38;5;28many\u001b[39m(\n\u001b[0;32m    876\u001b[0m     _pandas_dtype_needs_early_conversion(i) \u001b[38;5;28;01mfor\u001b[39;00m i \u001b[38;5;129;01min\u001b[39;00m dtypes_orig\n\u001b[0;32m    877\u001b[0m )\n\u001b[0;32m    878\u001b[0m \u001b[38;5;28;01mif\u001b[39;00m \u001b[38;5;28mall\u001b[39m(\u001b[38;5;28misinstance\u001b[39m(dtype_iter, np\u001b[38;5;241m.\u001b[39mdtype) \u001b[38;5;28;01mfor\u001b[39;00m dtype_iter \u001b[38;5;129;01min\u001b[39;00m dtypes_orig):\n\u001b[1;32m--> 879\u001b[0m     dtype_orig \u001b[38;5;241m=\u001b[39m np\u001b[38;5;241m.\u001b[39mresult_type(\u001b[38;5;241m*\u001b[39mdtypes_orig)\n\u001b[0;32m    880\u001b[0m \u001b[38;5;28;01melif\u001b[39;00m pandas_requires_conversion \u001b[38;5;129;01mand\u001b[39;00m \u001b[38;5;28many\u001b[39m(d \u001b[38;5;241m==\u001b[39m \u001b[38;5;28mobject\u001b[39m \u001b[38;5;28;01mfor\u001b[39;00m d \u001b[38;5;129;01min\u001b[39;00m dtypes_orig):\n\u001b[0;32m    881\u001b[0m     \u001b[38;5;66;03m# Force object if any of the dtypes is an object\u001b[39;00m\n\u001b[0;32m    882\u001b[0m     dtype_orig \u001b[38;5;241m=\u001b[39m \u001b[38;5;28mobject\u001b[39m\n",
      "\u001b[1;31mDTypePromotionError\u001b[0m: The DType <class 'numpy.dtypes.DateTime64DType'> could not be promoted by <class 'numpy.dtypes.Float64DType'>. This means that no common DType exists for the given inputs. For example they cannot be stored in a single array unless the dtype is `object`. The full list of DTypes is: (<class 'numpy.dtypes.DateTime64DType'>, <class 'numpy.dtypes.Float64DType'>, <class 'numpy.dtypes.Float64DType'>, <class 'numpy.dtypes.Int64DType'>, <class 'numpy.dtypes.Float64DType'>, <class 'numpy.dtypes.Float64DType'>, <class 'numpy.dtypes.Float64DType'>, <class 'numpy.dtypes.Float64DType'>, <class 'numpy.dtypes.Float64DType'>, <class 'numpy.dtypes.Float64DType'>, <class 'numpy.dtypes.Float64DType'>, <class 'numpy.dtypes.Float64DType'>, <class 'numpy.dtypes.Float64DType'>, <class 'numpy.dtypes.Float64DType'>, <class 'numpy.dtypes.Float64DType'>, <class 'numpy.dtypes.Float64DType'>, <class 'numpy.dtypes.Float64DType'>, <class 'numpy.dtypes.Float64DType'>, <class 'numpy.dtypes.Float64DType'>, <class 'numpy.dtypes.Float64DType'>, <class 'numpy.dtypes.Float64DType'>, <class 'numpy.dtypes.Float64DType'>, <class 'numpy.dtypes.Float64DType'>, <class 'numpy.dtypes.Float64DType'>, <class 'numpy.dtypes.Float64DType'>, <class 'numpy.dtypes.Float64DType'>, <class 'numpy.dtypes.Float64DType'>, <class 'numpy.dtypes.Float64DType'>, <class 'numpy.dtypes.Float64DType'>, <class 'numpy.dtypes.Int32DType'>, <class 'numpy.dtypes.BoolDType'>)"
     ]
    }
   ],
   "source": [
    "validate_model(x_train, y_train, x_val, y_val)"
   ]
  },
  {
   "cell_type": "code",
   "execution_count": null,
   "id": "66c03010",
   "metadata": {},
   "outputs": [],
   "source": []
  }
 ],
 "metadata": {
  "kernelspec": {
   "display_name": "base",
   "language": "python",
   "name": "python3"
  },
  "language_info": {
   "codemirror_mode": {
    "name": "ipython",
    "version": 3
   },
   "file_extension": ".py",
   "mimetype": "text/x-python",
   "name": "python",
   "nbconvert_exporter": "python",
   "pygments_lexer": "ipython3",
   "version": "3.12.4"
  }
 },
 "nbformat": 4,
 "nbformat_minor": 5
}
